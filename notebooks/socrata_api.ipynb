{
 "cells": [
  {
   "cell_type": "code",
   "execution_count": 8,
   "id": "f172c16e",
   "metadata": {},
   "outputs": [],
   "source": [
    "import pandas as pd\n",
    "import requests\n",
    "from sodapy import Socrata"
   ]
  },
  {
   "cell_type": "code",
   "execution_count": 9,
   "id": "e9d2b7b4",
   "metadata": {},
   "outputs": [
    {
     "name": "stderr",
     "output_type": "stream",
     "text": [
      "WARNING:root:Requests made without an app_token will be subject to strict throttling limits.\n"
     ]
    }
   ],
   "source": [
    "#!/usr/bin/env python\n",
    "\n",
    "# make sure to install these packages before running:\n",
    "# pip install pandas\n",
    "# pip install sodapy\n",
    "\n",
    "import pandas as pd\n",
    "from sodapy import Socrata\n",
    "\n",
    "# Unauthenticated client only works with public data sets. Note 'None'\n",
    "# in place of application token, and no username or password:\n",
    "client = Socrata(\"data.cityofchicago.org\", None)\n",
    "\n",
    "# Example authenticated client (needed for non-public datasets):\n",
    "# client = Socrata(data.cityofchicago.org,\n",
    "#                  MyAppToken,\n",
    "#                  username=\"user@example.com\",\n",
    "#                  password=\"AFakePassword\")\n",
    "\n",
    "# First 2000 results, returned as JSON from API / converted to Python list of\n",
    "# dictionaries by sodapy.\n",
    "results = client.get(\"9hwr-2zxp\", limit=2000)\n",
    "\n",
    "# Convert to pandas DataFrame\n",
    "results_df = pd.DataFrame.from_records(results)\n"
   ]
  },
  {
   "cell_type": "code",
   "execution_count": null,
   "id": "748477f1",
   "metadata": {},
   "outputs": [],
   "source": []
  },
  {
   "cell_type": "code",
   "execution_count": 11,
   "id": "4596371f",
   "metadata": {},
   "outputs": [
    {
     "data": {
      "text/plain": [
       "'2022-12-31T23:55:00.000'"
      ]
     },
     "execution_count": 11,
     "metadata": {},
     "output_type": "execute_result"
    }
   ],
   "source": [
    "results_df.date.max()"
   ]
  },
  {
   "cell_type": "code",
   "execution_count": 29,
   "id": "f4c8fce1",
   "metadata": {},
   "outputs": [],
   "source": [
    "start_date = \"2022-01-31\"\n",
    "end_date = \"2023-12-31\""
   ]
  },
  {
   "cell_type": "code",
   "execution_count": 40,
   "id": "95ce2a0d",
   "metadata": {},
   "outputs": [],
   "source": [
    "base_url = \"https://data.cityofchicago.org/resource/ijzp-q8t2.json\"\n",
    "params = {\n",
    "            \"$where\": f\"date between '{start_date}' and '{end_date}'\",\n",
    "            \"$limit\": None\n",
    "        }"
   ]
  },
  {
   "cell_type": "code",
   "execution_count": 41,
   "id": "aff31d66",
   "metadata": {},
   "outputs": [],
   "source": [
    "response = requests.get(base_url, params=params)"
   ]
  },
  {
   "cell_type": "code",
   "execution_count": 42,
   "id": "3fde02c1",
   "metadata": {
    "scrolled": false
   },
   "outputs": [],
   "source": [
    "data = response.json()"
   ]
  },
  {
   "cell_type": "code",
   "execution_count": 43,
   "id": "b9086998",
   "metadata": {},
   "outputs": [],
   "source": [
    "results_df = pd.DataFrame.from_records(data)"
   ]
  },
  {
   "cell_type": "code",
   "execution_count": 44,
   "id": "375ef393",
   "metadata": {},
   "outputs": [
    {
     "data": {
      "text/plain": [
       "'2022-02-01T17:00:00.000'"
      ]
     },
     "execution_count": 44,
     "metadata": {},
     "output_type": "execute_result"
    }
   ],
   "source": [
    "results_df.date.max()"
   ]
  },
  {
   "cell_type": "code",
   "execution_count": null,
   "id": "e3f04a2b",
   "metadata": {},
   "outputs": [],
   "source": []
  },
  {
   "cell_type": "code",
   "execution_count": null,
   "id": "f20bfb19",
   "metadata": {},
   "outputs": [],
   "source": []
  }
 ],
 "metadata": {
  "kernelspec": {
   "display_name": "Python [conda env:crime_chicago] *",
   "language": "python",
   "name": "conda-env-crime_chicago-py"
  },
  "language_info": {
   "codemirror_mode": {
    "name": "ipython",
    "version": 3
   },
   "file_extension": ".py",
   "mimetype": "text/x-python",
   "name": "python",
   "nbconvert_exporter": "python",
   "pygments_lexer": "ipython3",
   "version": "3.9.18"
  }
 },
 "nbformat": 4,
 "nbformat_minor": 5
}
