{
 "cells": [
  {
   "cell_type": "markdown",
   "metadata": {},
   "source": [
    "### Objectifs de ce notebook :\n",
    ">Utilisation des données du site https://data.cityofchicago.org/ sur la criminalité\n",
    "\n",
    "## Prédiction des crimes par type et par région \n",
    "- Le nombre de crime est vu comme une série temporelle\n",
    "- Utilisation de la librairie PROPHET https://facebook.github.io/prophet/docs/quick_start.html\n",
    "- Visualisation des résultats"
   ]
  },
  {
   "cell_type": "code",
   "execution_count": 1,
   "metadata": {},
   "outputs": [],
   "source": [
    "%load_ext autoreload\n",
    "%autoreload 2"
   ]
  },
  {
   "cell_type": "markdown",
   "metadata": {},
   "source": [
    "### Import des package"
   ]
  },
  {
   "cell_type": "code",
   "execution_count": 2,
   "metadata": {},
   "outputs": [],
   "source": [
    "import ipywidgets as widgets\n",
    "from ipywidgets import interact, interactive, fixed, interact_manual, HBox, VBox, Box\n",
    "from IPython.display import IFrame\n",
    "from datetime import datetime\n",
    "from scipy import stats"
   ]
  },
  {
   "cell_type": "code",
   "execution_count": 3,
   "metadata": {},
   "outputs": [
    {
     "data": {
      "text/html": [
       "<script type=\"text/javascript\">window.PlotlyConfig = {MathJaxConfig: 'local'};</script><script type=\"text/javascript\">if (window.MathJax) {MathJax.Hub.Config({SVG: {font: \"STIX-Web\"}});}</script><script>requirejs.config({paths: { 'plotly': ['https://cdn.plot.ly/plotly-latest.min']},});if(!window._Plotly) {require(['plotly'],function(plotly) {window._Plotly=plotly;});}</script>"
      ],
      "text/vnd.plotly.v1+html": [
       "<script type=\"text/javascript\">window.PlotlyConfig = {MathJaxConfig: 'local'};</script><script type=\"text/javascript\">if (window.MathJax) {MathJax.Hub.Config({SVG: {font: \"STIX-Web\"}});}</script><script>requirejs.config({paths: { 'plotly': ['https://cdn.plot.ly/plotly-latest.min']},});if(!window._Plotly) {require(['plotly'],function(plotly) {window._Plotly=plotly;});}</script>"
      ]
     },
     "metadata": {},
     "output_type": "display_data"
    }
   ],
   "source": [
    "from plotly.offline import download_plotlyjs, init_notebook_mode, plot, iplot\n",
    "import plotly.graph_objs as go\n",
    "init_notebook_mode(connected=True)"
   ]
  },
  {
   "cell_type": "code",
   "execution_count": 4,
   "metadata": {},
   "outputs": [],
   "source": [
    "import warnings\n",
    "warnings.filterwarnings('ignore')\n",
    "from fbprophet import Prophet\n",
    "import logging\n",
    "logging.getLogger().setLevel(logging.ERROR)\n",
    "import datetime\n",
    "from pandas.tseries.offsets import MonthEnd"
   ]
  },
  {
   "cell_type": "code",
   "execution_count": 5,
   "metadata": {},
   "outputs": [],
   "source": [
    "import numpy as np\n",
    "import pandas as pd\n",
    "import datetime as dt\n",
    "import scipy\n",
    "from sklearn.model_selection import train_test_split"
   ]
  },
  {
   "cell_type": "code",
   "execution_count": 6,
   "metadata": {},
   "outputs": [],
   "source": [
    "from sklearn.metrics import mean_squared_error\n",
    "from sklearn.metrics import r2_score\n",
    "from sklearn.metrics import explained_variance_score\n",
    "from sklearn.metrics import mean_absolute_error"
   ]
  },
  {
   "cell_type": "code",
   "execution_count": null,
   "metadata": {},
   "outputs": [],
   "source": []
  },
  {
   "cell_type": "code",
   "execution_count": 7,
   "metadata": {},
   "outputs": [],
   "source": [
    "from datetime import datetime"
   ]
  },
  {
   "cell_type": "markdown",
   "metadata": {},
   "source": [
    "## Chemin des données"
   ]
  },
  {
   "cell_type": "code",
   "execution_count": 8,
   "metadata": {},
   "outputs": [],
   "source": [
    "Path_Socio = \"/home/ml/Documents/crimes_chigaco/data/raw/Census_Data_-_Selected_socioeconomic_indicators_in_Chicago__2008___2012.csv\"\n",
    "Path_Crime = \"/home/ml/Documents/crimes_chigaco/data/raw/Crimes_-_2001_to_present.csv\""
   ]
  },
  {
   "cell_type": "markdown",
   "metadata": {},
   "source": [
    "## Chargment des données"
   ]
  },
  {
   "cell_type": "code",
   "execution_count": 9,
   "metadata": {},
   "outputs": [],
   "source": [
    "df_Socio = pd.read_csv(Path_Socio)\n",
    "df_Crime = pd.read_csv(Path_Crime, sep=';', parse_dates=['Date'])"
   ]
  },
  {
   "cell_type": "code",
   "execution_count": 10,
   "metadata": {},
   "outputs": [],
   "source": [
    "def rename_columns_socio():\n",
    "    \"\"\"\n",
    "    \n",
    "    \"\"\"\n",
    "    return {\n",
    "'Community Area Number':'community_area_number',\n",
    "'COMMUNITY AREA NAME':'community_area_name', \n",
    "'PERCENT OF HOUSING CROWDED':'pct_housing_crowded', \n",
    "'PERCENT HOUSEHOLDS BELOW POVERTY':'pct_households_below_poverty', \n",
    "'PERCENT AGED 16+ UNEMPLOYED':'pct_age16_unemployed',\n",
    "'PERCENT AGED 25+ WITHOUT HIGH SCHOOL DIPLOMA':'pct_age25_no_highschool',\n",
    "'PERCENT AGED UNDER 18 OR OVER 64': 'pct_not_working_age',\n",
    "'per_capita_income':'per_capita_income',\n",
    "'HARDSHIP INDEX' : 'hardship_index'}\n",
    "\n",
    "def rename_columns_crimes():\n",
    "    \"\"\"\n",
    "    \n",
    "    \"\"\"\n",
    "    return {\n",
    "        'ID': 'id',\n",
    "        'Case Number': 'cas_number', \n",
    "        'Date':'date',\n",
    "        'Block':'block', \n",
    "        'IUCR':'iucr', \n",
    "        'Primary Type':'primary_type',\n",
    "        'Description':'description', \n",
    "        'Location Description':'location_description', \n",
    "        'Arrest':'arrest', \n",
    "        'Domestic':'domestic', \n",
    "        'Beat':'beat',\n",
    "        'District':'district', \n",
    "        'Ward':'ward', \n",
    "        'Community Area': 'community_area_number', \n",
    "        'FBI Code':'fbi_code', \n",
    "        'X Coordinate':'x_coordinate',\n",
    "        'Y Coordinate':'y_coordinate', \n",
    "        'Year':'year', \n",
    "        'Updated On':'updated_on', \n",
    "        'Latitude':'latitude', \n",
    "        'Longitude':'longitude',\n",
    "        'Location':'location'   \n",
    "    }\n",
    "\n",
    "df_Socio.rename(columns=rename_columns_socio(), inplace=True)\n",
    "df_Crime.rename(columns=rename_columns_crimes(), inplace=True)"
   ]
  },
  {
   "cell_type": "code",
   "execution_count": 11,
   "metadata": {},
   "outputs": [],
   "source": [
    "df_src = pd.merge(df_Crime, df_Socio, on='community_area_number', how='left')\n",
    "df_src.drop(df_src.columns.difference(['primary_type','date', 'community_area_name']), inplace=True, axis=1)"
   ]
  },
  {
   "cell_type": "code",
   "execution_count": 12,
   "metadata": {},
   "outputs": [],
   "source": [
    "list_date = df_src['date'].apply(lambda x: x.strftime('%Y-%m'))"
   ]
  },
  {
   "cell_type": "code",
   "execution_count": 13,
   "metadata": {},
   "outputs": [],
   "source": [
    "list_primary_type = list(df_src.primary_type.unique())\n",
    "list_community_area = list(df_src.community_area_name.unique())"
   ]
  },
  {
   "cell_type": "code",
   "execution_count": 14,
   "metadata": {},
   "outputs": [],
   "source": [
    "list_date_sorted = sorted(set(list_date), key=lambda x: pd.to_datetime(x))"
   ]
  },
  {
   "cell_type": "code",
   "execution_count": 15,
   "metadata": {},
   "outputs": [],
   "source": [
    "def return_df(type_incident,start_date, end_date, community_area=None):\n",
    "    \"\"\"\n",
    "    \n",
    "    \"\"\"\n",
    "    start_date = pd.to_datetime(start_date)\n",
    "    end_date = pd.to_datetime(end_date)\n",
    "    if community_area != None:\n",
    "        df = df_src[(df_src.primary_type==type_incident) & (df_src.community_area_name==community_area)]\n",
    "    else:  \n",
    "        df = df_Crime[df_Crime.primary_type==type_incident]\n",
    "    df['year_month'] = df['date'].apply(lambda x: x.strftime('%Y-%m'))\n",
    "    df_group = df.groupby(['year_month'], as_index=False).agg({'primary_type':'count'})\n",
    "    df_group.rename(columns={\"primary_type\":\"nb_crime\"}, inplace=True)\n",
    "    df_group['year_month']= pd.to_datetime(df_group['year_month'])\n",
    "    df_group.sort_values(by='year_month', inplace=True)\n",
    "    df_group.reset_index(inplace=True, drop=True)\n",
    "    del df\n",
    "    df_group['year_month'] = pd.to_datetime(df_group['year_month'], format=\"%Y%m\") + MonthEnd(1)\n",
    "    df_group.columns = ['ds', 'y']\n",
    "    return df_group[(df_group['ds'] >=start_date) & (df_group['ds'] <= end_date) ]\n",
    "\n",
    "def return_future(type_incident, prediction_size, start_date, end_date, community_area_name=None):\n",
    "    \"\"\"\n",
    "    \n",
    "    \"\"\"\n",
    "    if community_area_name != None:\n",
    "        df = return_df(type_incident,start_date, end_date, community_area_name)\n",
    "    else:\n",
    "        df = return_df(type_incident, start_date, end_date)\n",
    "    m = Prophet(\n",
    "        growth=\"linear\",\n",
    "        seasonality_mode='multiplicative',\n",
    "        daily_seasonality=False,\n",
    "        weekly_seasonality=False,\n",
    "        yearly_seasonality=False,\n",
    "        ).add_seasonality(\n",
    "        name='yearly',\n",
    "        period = 365.25,\n",
    "        fourier_order=20,)\n",
    "    train_df = df[:-prediction_size]\n",
    "    m.fit(train_df)\n",
    "    future = m.make_future_dataframe(periods=prediction_size, freq='m')\n",
    "    return m.predict(future)\n",
    "\n",
    "def return_future_(type_incident, prediction_size, start_date, end_date, community_area_name=None):\n",
    "    \"\"\"\n",
    "    \"\"\"\n",
    "    if community_area_name != None:\n",
    "        df = return_df(type_incident,start_date, end_date, community_area_name)\n",
    "    else:\n",
    "        df = return_df(type_incident, start_date, end_date)\n",
    "    \n",
    "    m = Prophet(\n",
    "        growth=\"linear\",\n",
    "        seasonality_mode='multiplicative',\n",
    "        daily_seasonality=False,\n",
    "        weekly_seasonality=False,\n",
    "        yearly_seasonality=False,\n",
    "        ).add_seasonality(\n",
    "        name='yearly',\n",
    "        period = 365.25,\n",
    "        fourier_order=20,)\n",
    "    train_df = df[:-prediction_size]\n",
    "    train_df2 = train_df.copy().set_index('ds')\n",
    "    train_df2['y'], lambda_prophet = stats.boxcox(train_df2['y'])\n",
    "    train_df2.reset_index(inplace=True)\n",
    "    m.fit(train_df2)\n",
    "    future = m.make_future_dataframe(periods=prediction_size, freq='m')\n",
    "    return m.predict(future)    "
   ]
  },
  {
   "cell_type": "code",
   "execution_count": 16,
   "metadata": {},
   "outputs": [
    {
     "data": {
      "text/html": [
       "<script type=\"text/javascript\">window.PlotlyConfig = {MathJaxConfig: 'local'};</script><script type=\"text/javascript\">if (window.MathJax) {MathJax.Hub.Config({SVG: {font: \"STIX-Web\"}});}</script><script>requirejs.config({paths: { 'plotly': ['https://cdn.plot.ly/plotly-latest.min']},});if(!window._Plotly) {require(['plotly'],function(plotly) {window._Plotly=plotly;});}</script>"
      ],
      "text/vnd.plotly.v1+html": [
       "<script type=\"text/javascript\">window.PlotlyConfig = {MathJaxConfig: 'local'};</script><script type=\"text/javascript\">if (window.MathJax) {MathJax.Hub.Config({SVG: {font: \"STIX-Web\"}});}</script><script>requirejs.config({paths: { 'plotly': ['https://cdn.plot.ly/plotly-latest.min']},});if(!window._Plotly) {require(['plotly'],function(plotly) {window._Plotly=plotly;});}</script>"
      ]
     },
     "metadata": {},
     "output_type": "display_data"
    }
   ],
   "source": [
    "from plotly.offline import download_plotlyjs, init_notebook_mode, plot, iplot\n",
    "init_notebook_mode(connected=True)"
   ]
  },
  {
   "cell_type": "code",
   "execution_count": 17,
   "metadata": {},
   "outputs": [],
   "source": [
    "def plot_crimes(list_incident):\n",
    "    data = []\n",
    "    for incident in list_incident:\n",
    "        df = return_df(incident, start_date='2001-01', end_date='2018-05')\n",
    "        data.append(go.Scatter(x=df.ds, y=df.y, name=incident))\n",
    "        del df\n",
    "    layout = go.Layout(title=\"number of crimes\",\n",
    "                xaxis=dict(title='date'),\n",
    "                yaxis=dict(title='nb crimes'))\n",
    "    fig = go.Figure(data=data, layout=layout)\n",
    "    iplot(fig)"
   ]
  },
  {
   "cell_type": "code",
   "execution_count": 18,
   "metadata": {
    "scrolled": false
   },
   "outputs": [
    {
     "data": {
      "application/vnd.jupyter.widget-view+json": {
       "model_id": "02e0815d36cc470b9da1288c2deb3fa6",
       "version_major": 2,
       "version_minor": 0
      },
      "text/plain": [
       "interactive(children=(SelectMultiple(description='type of crime', index=(6, 11), options=('BATTERY', 'OTHER OF…"
      ]
     },
     "metadata": {},
     "output_type": "display_data"
    }
   ],
   "source": [
    "interact(plot_crimes, list_incident=widgets.SelectMultiple(options=list_primary_type ,\n",
    "                                                          value=[\"THEFT\", \"ASSAULT\"],\n",
    "                                                          description=\"type of crime\"));"
   ]
  },
  {
   "cell_type": "code",
   "execution_count": 19,
   "metadata": {
    "scrolled": false
   },
   "outputs": [
    {
     "data": {
      "application/vnd.jupyter.widget-view+json": {
       "model_id": "270d48865bc344afb78ef5a3e9002452",
       "version_major": 2,
       "version_minor": 0
      },
      "text/plain": [
       "VBox(children=(IntSlider(value=6, description='prediction period', max=12, min=3), Select(description='type of…"
      ]
     },
     "metadata": {},
     "output_type": "display_data"
    }
   ],
   "source": [
    "prediction_size = widgets.IntSlider(min=3, max=12, step=1, value=6, description=\"prediction period\")\n",
    "crime = widgets.Select(options=[\"THEFT\", \"ASSAULT\", \"BURGLARY\", \"ROBBERY\"], value=\"THEFT\",\n",
    "                                                          description=\"type of crime\");\n",
    "community_area_name = widgets.Select(options=list_community_area, value=None, description=\"name_area\")\n",
    "date_start = widgets.Select(options=list_date_sorted, value='2001-01', description=\"start_date\")\n",
    "date_end = widgets.Select(options=list_date_sorted, value='2018-06', description=\"end_date\")\n",
    "VBox([prediction_size, crime, community_area_name, date_start, date_end])\n"
   ]
  },
  {
   "cell_type": "code",
   "execution_count": 34,
   "metadata": {},
   "outputs": [],
   "source": [
    "forecast = return_future(crime.value, prediction_size.value, date_start.value,\\\n",
    "                         date_end.value, community_area_name.value)\n",
    "    \n",
    "historical = return_df(type_incident=crime.value, start_date=date_start.value,\\\n",
    "                       end_date=date_end.value, community_area=community_area_name.value)\n",
    "\n",
    "def make_comparison_dataframe(historical, forecast):\n",
    "    \"\"\"Join the history with the forecast.\n",
    "   \n",
    "       The resulting dataset will contain columns 'yhat', 'yhat_lower', 'yhat_upper' and 'y'.\n",
    "    \"\"\"\n",
    "    return forecast.set_index('ds')[['yhat', 'yhat_lower', 'yhat_upper']].join(historical.set_index('ds'))\n",
    "\n",
    "def calculate_forecast_errors(df, prediction_size):\n",
    "    \"\"\"Calculate MAPE and MAE of the forecast.\n",
    "    \n",
    "       Args:\n",
    "           df: joined dataset with 'y' and 'yhat' columns.\n",
    "           prediction_size: number of months at the end to predict.\n",
    "    \"\"\"\n",
    "    \n",
    "    # Make a copy\n",
    "    df = df.copy()\n",
    "    \n",
    "    # Now we calculate the values of e_i and p_i according to the formulas given in the article above.\n",
    "    df['e'] = df['y'] - df['yhat']\n",
    "    df['p'] = 100 * df['e'] / df['y']\n",
    "    \n",
    "    # Recall that we held out the values of the last `prediction_size` months\n",
    "    # in order to predict them and measure the quality of the model. \n",
    "    \n",
    "    # Now cut out the part of the data which we made our prediction for.\n",
    "    predicted_part = df[-prediction_size:]\n",
    "    \n",
    "    # Define the function that averages absolute error values over the predicted part.\n",
    "    error_mean = lambda error_name: np.mean(np.abs(predicted_part[error_name]))\n",
    "    \n",
    "    # Now we can calculate MAPE and MAE and return the resulting dictionary of errors.\n",
    "    return {'MAPE': error_mean('p'), 'MAE': error_mean('e')}\n",
    "\n",
    "\n",
    "def show_forecast(cmp_df, num_predictions, num_values, title):\n",
    "    \"\"\"Visualize the forecast.\"\"\"\n",
    "    \n",
    "    def create_go(name, column, num, **kwargs):\n",
    "        points = cmp_df.tail(num)\n",
    "        args = dict(name=name, x=points.index, y=points[column], mode='lines')\n",
    "        args.update(kwargs)\n",
    "        return go.Scatter(**args)\n",
    "    \n",
    "    lower_bound = create_go('Lower Bound', 'yhat_lower', num_predictions,\n",
    "                            line=dict(width=0),\n",
    "                            marker=dict(color='#ff0000'))\n",
    "    upper_bound = create_go('Upper Bound', 'yhat_upper', num_predictions,\n",
    "                            line=dict(width=0),\n",
    "                            marker=dict(color='#ff0000'),\n",
    "                            fillcolor='rgba(68, 68, 68, 0.3)', \n",
    "                            fill='tonexty')\n",
    "    forecast = create_go('Forecast', 'yhat', num_predictions,\n",
    "                         line=dict(color='rgb(31, 119, 180)'))\n",
    "    actual = create_go('Actual', 'y', num_values,\n",
    "                       marker=dict(color=\"red\"))\n",
    "    \n",
    "    # In this case the order of the series is important because of the filling\n",
    "    data = [lower_bound, upper_bound, forecast, actual]\n",
    "\n",
    "    layout = go.Layout(yaxis=dict(title='Posts'), title=title, showlegend = False)\n",
    "    fig = go.Figure(data=data, layout=layout)\n",
    "    iplot(fig, show_link=False)\n"
   ]
  },
  {
   "cell_type": "code",
   "execution_count": 35,
   "metadata": {},
   "outputs": [
    {
     "data": {
      "text/html": [
       "<div>\n",
       "<style scoped>\n",
       "    .dataframe tbody tr th:only-of-type {\n",
       "        vertical-align: middle;\n",
       "    }\n",
       "\n",
       "    .dataframe tbody tr th {\n",
       "        vertical-align: top;\n",
       "    }\n",
       "\n",
       "    .dataframe thead th {\n",
       "        text-align: right;\n",
       "    }\n",
       "</style>\n",
       "<table border=\"1\" class=\"dataframe\">\n",
       "  <thead>\n",
       "    <tr style=\"text-align: right;\">\n",
       "      <th></th>\n",
       "      <th>yhat</th>\n",
       "      <th>yhat_lower</th>\n",
       "      <th>yhat_upper</th>\n",
       "      <th>y</th>\n",
       "    </tr>\n",
       "    <tr>\n",
       "      <th>ds</th>\n",
       "      <th></th>\n",
       "      <th></th>\n",
       "      <th></th>\n",
       "      <th></th>\n",
       "    </tr>\n",
       "  </thead>\n",
       "  <tbody>\n",
       "    <tr>\n",
       "      <th>2017-11-30</th>\n",
       "      <td>155.672084</td>\n",
       "      <td>119.217300</td>\n",
       "      <td>194.981640</td>\n",
       "      <td>184</td>\n",
       "    </tr>\n",
       "    <tr>\n",
       "      <th>2017-12-31</th>\n",
       "      <td>149.538359</td>\n",
       "      <td>112.269458</td>\n",
       "      <td>185.164905</td>\n",
       "      <td>183</td>\n",
       "    </tr>\n",
       "    <tr>\n",
       "      <th>2018-01-31</th>\n",
       "      <td>141.677375</td>\n",
       "      <td>102.830216</td>\n",
       "      <td>181.059912</td>\n",
       "      <td>165</td>\n",
       "    </tr>\n",
       "  </tbody>\n",
       "</table>\n",
       "</div>"
      ],
      "text/plain": [
       "                  yhat  yhat_lower  yhat_upper    y\n",
       "ds                                                 \n",
       "2017-11-30  155.672084  119.217300  194.981640  184\n",
       "2017-12-31  149.538359  112.269458  185.164905  183\n",
       "2018-01-31  141.677375  102.830216  181.059912  165"
      ]
     },
     "execution_count": 35,
     "metadata": {},
     "output_type": "execute_result"
    }
   ],
   "source": [
    "cmp_df = make_comparison_dataframe(historical, forecast)\n",
    "cmp_df.tail(prediction_size.value)"
   ]
  },
  {
   "cell_type": "code",
   "execution_count": 36,
   "metadata": {},
   "outputs": [
    {
     "data": {
      "application/vnd.plotly.v1+json": {
       "config": {
        "linkText": "Export to plot.ly",
        "plotlyServerURL": "https://plot.ly",
        "showLink": false
       },
       "data": [
        {
         "line": {
          "width": 0
         },
         "marker": {
          "color": "#ff0000"
         },
         "mode": "lines",
         "name": "Lower Bound",
         "type": "scatter",
         "uid": "e5a01e8d-ed23-4a1f-afd2-e9ae9bfc784d",
         "x": [
          "2017-11-30",
          "2017-12-31",
          "2018-01-31"
         ],
         "y": [
          119.21730019282651,
          112.26945838750994,
          102.83021555810312
         ]
        },
        {
         "fill": "tonexty",
         "fillcolor": "rgba(68, 68, 68, 0.3)",
         "line": {
          "width": 0
         },
         "marker": {
          "color": "#ff0000"
         },
         "mode": "lines",
         "name": "Upper Bound",
         "type": "scatter",
         "uid": "1186cd76-3553-4124-9580-1bb7621c74b0",
         "x": [
          "2017-11-30",
          "2017-12-31",
          "2018-01-31"
         ],
         "y": [
          194.98164033821854,
          185.1649047447814,
          181.0599118929008
         ]
        },
        {
         "line": {
          "color": "rgb(31, 119, 180)"
         },
         "mode": "lines",
         "name": "Forecast",
         "type": "scatter",
         "uid": "3eb9a6a9-1659-458d-85cd-6f9c008beceb",
         "x": [
          "2017-11-30",
          "2017-12-31",
          "2018-01-31"
         ],
         "y": [
          155.67208385583754,
          149.5383587218686,
          141.67737535270314
         ]
        },
        {
         "marker": {
          "color": "red"
         },
         "mode": "lines",
         "name": "Actual",
         "type": "scatter",
         "uid": "9e57eba1-5501-4b17-a2b2-815a4067b9c5",
         "x": [
          "2005-08-31",
          "2005-09-30",
          "2005-10-31",
          "2005-11-30",
          "2005-12-31",
          "2006-01-31",
          "2006-02-28",
          "2006-03-31",
          "2006-04-30",
          "2006-05-31",
          "2006-06-30",
          "2006-07-31",
          "2006-08-31",
          "2006-09-30",
          "2006-10-31",
          "2006-11-30",
          "2006-12-31",
          "2007-01-31",
          "2007-02-28",
          "2007-03-31",
          "2007-04-30",
          "2007-05-31",
          "2007-06-30",
          "2007-07-31",
          "2007-08-31",
          "2007-09-30",
          "2007-10-31",
          "2007-11-30",
          "2007-12-31",
          "2008-01-31",
          "2008-02-29",
          "2008-03-31",
          "2008-04-30",
          "2008-05-31",
          "2008-06-30",
          "2008-07-31",
          "2008-08-31",
          "2008-09-30",
          "2008-10-31",
          "2008-11-30",
          "2008-12-31",
          "2009-01-31",
          "2009-02-28",
          "2009-03-31",
          "2009-04-30",
          "2009-05-31",
          "2009-06-30",
          "2009-07-31",
          "2009-08-31",
          "2009-09-30",
          "2009-10-31",
          "2009-11-30",
          "2009-12-31",
          "2010-01-31",
          "2010-02-28",
          "2010-03-31",
          "2010-04-30",
          "2010-05-31",
          "2010-06-30",
          "2010-07-31",
          "2010-08-31",
          "2010-09-30",
          "2010-10-31",
          "2010-11-30",
          "2010-12-31",
          "2011-01-31",
          "2011-02-28",
          "2011-03-31",
          "2011-04-30",
          "2011-05-31",
          "2011-06-30",
          "2011-07-31",
          "2011-08-31",
          "2011-09-30",
          "2011-10-31",
          "2011-11-30",
          "2011-12-31",
          "2012-01-31",
          "2012-02-29",
          "2012-03-31",
          "2012-04-30",
          "2012-05-31",
          "2012-06-30",
          "2012-07-31",
          "2012-08-31",
          "2012-09-30",
          "2012-10-31",
          "2012-11-30",
          "2012-12-31",
          "2013-01-31",
          "2013-02-28",
          "2013-03-31",
          "2013-04-30",
          "2013-05-31",
          "2013-06-30",
          "2013-07-31",
          "2013-08-31",
          "2013-09-30",
          "2013-10-31",
          "2013-11-30",
          "2013-12-31",
          "2014-01-31",
          "2014-02-28",
          "2014-03-31",
          "2014-04-30",
          "2014-05-31",
          "2014-06-30",
          "2014-07-31",
          "2014-08-31",
          "2014-09-30",
          "2014-10-31",
          "2014-11-30",
          "2014-12-31",
          "2015-01-31",
          "2015-02-28",
          "2015-03-31",
          "2015-04-30",
          "2015-05-31",
          "2015-06-30",
          "2015-07-31",
          "2015-08-31",
          "2015-09-30",
          "2015-10-31",
          "2015-11-30",
          "2015-12-31",
          "2016-01-31",
          "2016-02-29",
          "2016-03-31",
          "2016-04-30",
          "2016-05-31",
          "2016-06-30",
          "2016-07-31",
          "2016-08-31",
          "2016-09-30",
          "2016-10-31",
          "2016-11-30",
          "2016-12-31",
          "2017-01-31",
          "2017-02-28",
          "2017-03-31",
          "2017-04-30",
          "2017-05-31",
          "2017-06-30",
          "2017-07-31",
          "2017-08-31",
          "2017-09-30",
          "2017-10-31",
          "2017-11-30",
          "2017-12-31",
          "2018-01-31"
         ],
         "y": [
          348,
          319,
          309,
          276,
          232,
          254,
          239,
          248,
          277,
          278,
          250,
          331,
          300,
          289,
          292,
          251,
          244,
          249,
          181,
          282,
          291,
          295,
          273,
          315,
          335,
          294,
          290,
          219,
          244,
          265,
          223,
          278,
          267,
          332,
          350,
          333,
          335,
          334,
          307,
          263,
          265,
          253,
          249,
          299,
          286,
          330,
          326,
          309,
          318,
          330,
          313,
          290,
          256,
          255,
          207,
          236,
          249,
          263,
          268,
          271,
          282,
          290,
          250,
          243,
          236,
          246,
          205,
          267,
          244,
          290,
          252,
          268,
          308,
          260,
          285,
          268,
          273,
          239,
          230,
          263,
          255,
          285,
          304,
          294,
          293,
          274,
          287,
          270,
          282,
          256,
          231,
          308,
          281,
          282,
          272,
          313,
          284,
          262,
          281,
          251,
          234,
          182,
          173,
          217,
          213,
          189,
          208,
          223,
          260,
          230,
          213,
          168,
          233,
          164,
          136,
          158,
          179,
          203,
          163,
          220,
          201,
          187,
          198,
          181,
          183,
          155,
          127,
          143,
          176,
          156,
          209,
          224,
          239,
          231,
          258,
          194,
          196,
          176,
          160,
          156,
          157,
          168,
          170,
          198,
          233,
          178,
          179,
          184,
          183,
          165
         ]
        }
       ],
       "layout": {
        "showlegend": false,
        "title": "number of crimes",
        "yaxis": {
         "title": "Posts"
        }
       }
      },
      "text/html": [
       "<div id=\"33258523-00fb-4112-b445-756bf8e64fa9\" style=\"height: 525px; width: 100%;\" class=\"plotly-graph-div\"></div><script type=\"text/javascript\">require([\"plotly\"], function(Plotly) { window.PLOTLYENV=window.PLOTLYENV || {};window.PLOTLYENV.BASE_URL=\"https://plot.ly\";Plotly.newPlot(\"33258523-00fb-4112-b445-756bf8e64fa9\", [{\"line\": {\"width\": 0}, \"marker\": {\"color\": \"#ff0000\"}, \"mode\": \"lines\", \"name\": \"Lower Bound\", \"x\": [\"2017-11-30\", \"2017-12-31\", \"2018-01-31\"], \"y\": [119.21730019282651, 112.26945838750994, 102.83021555810312], \"type\": \"scatter\", \"uid\": \"e5a01e8d-ed23-4a1f-afd2-e9ae9bfc784d\"}, {\"fill\": \"tonexty\", \"fillcolor\": \"rgba(68, 68, 68, 0.3)\", \"line\": {\"width\": 0}, \"marker\": {\"color\": \"#ff0000\"}, \"mode\": \"lines\", \"name\": \"Upper Bound\", \"x\": [\"2017-11-30\", \"2017-12-31\", \"2018-01-31\"], \"y\": [194.98164033821854, 185.1649047447814, 181.0599118929008], \"type\": \"scatter\", \"uid\": \"1186cd76-3553-4124-9580-1bb7621c74b0\"}, {\"line\": {\"color\": \"rgb(31, 119, 180)\"}, \"mode\": \"lines\", \"name\": \"Forecast\", \"x\": [\"2017-11-30\", \"2017-12-31\", \"2018-01-31\"], \"y\": [155.67208385583754, 149.5383587218686, 141.67737535270314], \"type\": \"scatter\", \"uid\": \"3eb9a6a9-1659-458d-85cd-6f9c008beceb\"}, {\"marker\": {\"color\": \"red\"}, \"mode\": \"lines\", \"name\": \"Actual\", \"x\": [\"2005-08-31\", \"2005-09-30\", \"2005-10-31\", \"2005-11-30\", \"2005-12-31\", \"2006-01-31\", \"2006-02-28\", \"2006-03-31\", \"2006-04-30\", \"2006-05-31\", \"2006-06-30\", \"2006-07-31\", \"2006-08-31\", \"2006-09-30\", \"2006-10-31\", \"2006-11-30\", \"2006-12-31\", \"2007-01-31\", \"2007-02-28\", \"2007-03-31\", \"2007-04-30\", \"2007-05-31\", \"2007-06-30\", \"2007-07-31\", \"2007-08-31\", \"2007-09-30\", \"2007-10-31\", \"2007-11-30\", \"2007-12-31\", \"2008-01-31\", \"2008-02-29\", \"2008-03-31\", \"2008-04-30\", \"2008-05-31\", \"2008-06-30\", \"2008-07-31\", \"2008-08-31\", \"2008-09-30\", \"2008-10-31\", \"2008-11-30\", \"2008-12-31\", \"2009-01-31\", \"2009-02-28\", \"2009-03-31\", \"2009-04-30\", \"2009-05-31\", \"2009-06-30\", \"2009-07-31\", \"2009-08-31\", \"2009-09-30\", \"2009-10-31\", \"2009-11-30\", \"2009-12-31\", \"2010-01-31\", \"2010-02-28\", \"2010-03-31\", \"2010-04-30\", \"2010-05-31\", \"2010-06-30\", \"2010-07-31\", \"2010-08-31\", \"2010-09-30\", \"2010-10-31\", \"2010-11-30\", \"2010-12-31\", \"2011-01-31\", \"2011-02-28\", \"2011-03-31\", \"2011-04-30\", \"2011-05-31\", \"2011-06-30\", \"2011-07-31\", \"2011-08-31\", \"2011-09-30\", \"2011-10-31\", \"2011-11-30\", \"2011-12-31\", \"2012-01-31\", \"2012-02-29\", \"2012-03-31\", \"2012-04-30\", \"2012-05-31\", \"2012-06-30\", \"2012-07-31\", \"2012-08-31\", \"2012-09-30\", \"2012-10-31\", \"2012-11-30\", \"2012-12-31\", \"2013-01-31\", \"2013-02-28\", \"2013-03-31\", \"2013-04-30\", \"2013-05-31\", \"2013-06-30\", \"2013-07-31\", \"2013-08-31\", \"2013-09-30\", \"2013-10-31\", \"2013-11-30\", \"2013-12-31\", \"2014-01-31\", \"2014-02-28\", \"2014-03-31\", \"2014-04-30\", \"2014-05-31\", \"2014-06-30\", \"2014-07-31\", \"2014-08-31\", \"2014-09-30\", \"2014-10-31\", \"2014-11-30\", \"2014-12-31\", \"2015-01-31\", \"2015-02-28\", \"2015-03-31\", \"2015-04-30\", \"2015-05-31\", \"2015-06-30\", \"2015-07-31\", \"2015-08-31\", \"2015-09-30\", \"2015-10-31\", \"2015-11-30\", \"2015-12-31\", \"2016-01-31\", \"2016-02-29\", \"2016-03-31\", \"2016-04-30\", \"2016-05-31\", \"2016-06-30\", \"2016-07-31\", \"2016-08-31\", \"2016-09-30\", \"2016-10-31\", \"2016-11-30\", \"2016-12-31\", \"2017-01-31\", \"2017-02-28\", \"2017-03-31\", \"2017-04-30\", \"2017-05-31\", \"2017-06-30\", \"2017-07-31\", \"2017-08-31\", \"2017-09-30\", \"2017-10-31\", \"2017-11-30\", \"2017-12-31\", \"2018-01-31\"], \"y\": [348, 319, 309, 276, 232, 254, 239, 248, 277, 278, 250, 331, 300, 289, 292, 251, 244, 249, 181, 282, 291, 295, 273, 315, 335, 294, 290, 219, 244, 265, 223, 278, 267, 332, 350, 333, 335, 334, 307, 263, 265, 253, 249, 299, 286, 330, 326, 309, 318, 330, 313, 290, 256, 255, 207, 236, 249, 263, 268, 271, 282, 290, 250, 243, 236, 246, 205, 267, 244, 290, 252, 268, 308, 260, 285, 268, 273, 239, 230, 263, 255, 285, 304, 294, 293, 274, 287, 270, 282, 256, 231, 308, 281, 282, 272, 313, 284, 262, 281, 251, 234, 182, 173, 217, 213, 189, 208, 223, 260, 230, 213, 168, 233, 164, 136, 158, 179, 203, 163, 220, 201, 187, 198, 181, 183, 155, 127, 143, 176, 156, 209, 224, 239, 231, 258, 194, 196, 176, 160, 156, 157, 168, 170, 198, 233, 178, 179, 184, 183, 165], \"type\": \"scatter\", \"uid\": \"9e57eba1-5501-4b17-a2b2-815a4067b9c5\"}], {\"showlegend\": false, \"title\": \"number of crimes\", \"yaxis\": {\"title\": \"Posts\"}}, {\"showLink\": false, \"linkText\": \"Export to plot.ly\", \"plotlyServerURL\": \"https://plot.ly\"})});</script><script type=\"text/javascript\">window.addEventListener(\"resize\", function(){window._Plotly.Plots.resize(document.getElementById(\"33258523-00fb-4112-b445-756bf8e64fa9\"));});</script>"
      ],
      "text/vnd.plotly.v1+html": [
       "<div id=\"33258523-00fb-4112-b445-756bf8e64fa9\" style=\"height: 525px; width: 100%;\" class=\"plotly-graph-div\"></div><script type=\"text/javascript\">require([\"plotly\"], function(Plotly) { window.PLOTLYENV=window.PLOTLYENV || {};window.PLOTLYENV.BASE_URL=\"https://plot.ly\";Plotly.newPlot(\"33258523-00fb-4112-b445-756bf8e64fa9\", [{\"line\": {\"width\": 0}, \"marker\": {\"color\": \"#ff0000\"}, \"mode\": \"lines\", \"name\": \"Lower Bound\", \"x\": [\"2017-11-30\", \"2017-12-31\", \"2018-01-31\"], \"y\": [119.21730019282651, 112.26945838750994, 102.83021555810312], \"type\": \"scatter\", \"uid\": \"e5a01e8d-ed23-4a1f-afd2-e9ae9bfc784d\"}, {\"fill\": \"tonexty\", \"fillcolor\": \"rgba(68, 68, 68, 0.3)\", \"line\": {\"width\": 0}, \"marker\": {\"color\": \"#ff0000\"}, \"mode\": \"lines\", \"name\": \"Upper Bound\", \"x\": [\"2017-11-30\", \"2017-12-31\", \"2018-01-31\"], \"y\": [194.98164033821854, 185.1649047447814, 181.0599118929008], \"type\": \"scatter\", \"uid\": \"1186cd76-3553-4124-9580-1bb7621c74b0\"}, {\"line\": {\"color\": \"rgb(31, 119, 180)\"}, \"mode\": \"lines\", \"name\": \"Forecast\", \"x\": [\"2017-11-30\", \"2017-12-31\", \"2018-01-31\"], \"y\": [155.67208385583754, 149.5383587218686, 141.67737535270314], \"type\": \"scatter\", \"uid\": \"3eb9a6a9-1659-458d-85cd-6f9c008beceb\"}, {\"marker\": {\"color\": \"red\"}, \"mode\": \"lines\", \"name\": \"Actual\", \"x\": [\"2005-08-31\", \"2005-09-30\", \"2005-10-31\", \"2005-11-30\", \"2005-12-31\", \"2006-01-31\", \"2006-02-28\", \"2006-03-31\", \"2006-04-30\", \"2006-05-31\", \"2006-06-30\", \"2006-07-31\", \"2006-08-31\", \"2006-09-30\", \"2006-10-31\", \"2006-11-30\", \"2006-12-31\", \"2007-01-31\", \"2007-02-28\", \"2007-03-31\", \"2007-04-30\", \"2007-05-31\", \"2007-06-30\", \"2007-07-31\", \"2007-08-31\", \"2007-09-30\", \"2007-10-31\", \"2007-11-30\", \"2007-12-31\", \"2008-01-31\", \"2008-02-29\", \"2008-03-31\", \"2008-04-30\", \"2008-05-31\", \"2008-06-30\", \"2008-07-31\", \"2008-08-31\", \"2008-09-30\", \"2008-10-31\", \"2008-11-30\", \"2008-12-31\", \"2009-01-31\", \"2009-02-28\", \"2009-03-31\", \"2009-04-30\", \"2009-05-31\", \"2009-06-30\", \"2009-07-31\", \"2009-08-31\", \"2009-09-30\", \"2009-10-31\", \"2009-11-30\", \"2009-12-31\", \"2010-01-31\", \"2010-02-28\", \"2010-03-31\", \"2010-04-30\", \"2010-05-31\", \"2010-06-30\", \"2010-07-31\", \"2010-08-31\", \"2010-09-30\", \"2010-10-31\", \"2010-11-30\", \"2010-12-31\", \"2011-01-31\", \"2011-02-28\", \"2011-03-31\", \"2011-04-30\", \"2011-05-31\", \"2011-06-30\", \"2011-07-31\", \"2011-08-31\", \"2011-09-30\", \"2011-10-31\", \"2011-11-30\", \"2011-12-31\", \"2012-01-31\", \"2012-02-29\", \"2012-03-31\", \"2012-04-30\", \"2012-05-31\", \"2012-06-30\", \"2012-07-31\", \"2012-08-31\", \"2012-09-30\", \"2012-10-31\", \"2012-11-30\", \"2012-12-31\", \"2013-01-31\", \"2013-02-28\", \"2013-03-31\", \"2013-04-30\", \"2013-05-31\", \"2013-06-30\", \"2013-07-31\", \"2013-08-31\", \"2013-09-30\", \"2013-10-31\", \"2013-11-30\", \"2013-12-31\", \"2014-01-31\", \"2014-02-28\", \"2014-03-31\", \"2014-04-30\", \"2014-05-31\", \"2014-06-30\", \"2014-07-31\", \"2014-08-31\", \"2014-09-30\", \"2014-10-31\", \"2014-11-30\", \"2014-12-31\", \"2015-01-31\", \"2015-02-28\", \"2015-03-31\", \"2015-04-30\", \"2015-05-31\", \"2015-06-30\", \"2015-07-31\", \"2015-08-31\", \"2015-09-30\", \"2015-10-31\", \"2015-11-30\", \"2015-12-31\", \"2016-01-31\", \"2016-02-29\", \"2016-03-31\", \"2016-04-30\", \"2016-05-31\", \"2016-06-30\", \"2016-07-31\", \"2016-08-31\", \"2016-09-30\", \"2016-10-31\", \"2016-11-30\", \"2016-12-31\", \"2017-01-31\", \"2017-02-28\", \"2017-03-31\", \"2017-04-30\", \"2017-05-31\", \"2017-06-30\", \"2017-07-31\", \"2017-08-31\", \"2017-09-30\", \"2017-10-31\", \"2017-11-30\", \"2017-12-31\", \"2018-01-31\"], \"y\": [348, 319, 309, 276, 232, 254, 239, 248, 277, 278, 250, 331, 300, 289, 292, 251, 244, 249, 181, 282, 291, 295, 273, 315, 335, 294, 290, 219, 244, 265, 223, 278, 267, 332, 350, 333, 335, 334, 307, 263, 265, 253, 249, 299, 286, 330, 326, 309, 318, 330, 313, 290, 256, 255, 207, 236, 249, 263, 268, 271, 282, 290, 250, 243, 236, 246, 205, 267, 244, 290, 252, 268, 308, 260, 285, 268, 273, 239, 230, 263, 255, 285, 304, 294, 293, 274, 287, 270, 282, 256, 231, 308, 281, 282, 272, 313, 284, 262, 281, 251, 234, 182, 173, 217, 213, 189, 208, 223, 260, 230, 213, 168, 233, 164, 136, 158, 179, 203, 163, 220, 201, 187, 198, 181, 183, 155, 127, 143, 176, 156, 209, 224, 239, 231, 258, 194, 196, 176, 160, 156, 157, 168, 170, 198, 233, 178, 179, 184, 183, 165], \"type\": \"scatter\", \"uid\": \"9e57eba1-5501-4b17-a2b2-815a4067b9c5\"}], {\"showlegend\": false, \"title\": \"number of crimes\", \"yaxis\": {\"title\": \"Posts\"}}, {\"showLink\": false, \"linkText\": \"Export to plot.ly\", \"plotlyServerURL\": \"https://plot.ly\"})});</script><script type=\"text/javascript\">window.addEventListener(\"resize\", function(){window._Plotly.Plots.resize(document.getElementById(\"33258523-00fb-4112-b445-756bf8e64fa9\"));});</script>"
      ]
     },
     "metadata": {},
     "output_type": "display_data"
    }
   ],
   "source": [
    "show_forecast(cmp_df, prediction_size.value, 150, 'number of crimes')"
   ]
  },
  {
   "cell_type": "code",
   "execution_count": 37,
   "metadata": {},
   "outputs": [
    {
     "name": "stdout",
     "output_type": "stream",
     "text": [
      "MAPE 15.938526835837793\n",
      "MAE 28.37072735653024\n"
     ]
    }
   ],
   "source": [
    "for err_name, err_value in calculate_forecast_errors(cmp_df, prediction_size.value).items():\n",
    "    print(err_name, err_value)"
   ]
  },
  {
   "cell_type": "code",
   "execution_count": 38,
   "metadata": {},
   "outputs": [],
   "source": [
    "df = cmp_df.tail(prediction_size.value)[['y', 'yhat']]"
   ]
  },
  {
   "cell_type": "code",
   "execution_count": 39,
   "metadata": {},
   "outputs": [
    {
     "data": {
      "text/plain": [
       "<matplotlib.axes._subplots.AxesSubplot at 0x7f7a52caa0f0>"
      ]
     },
     "execution_count": 39,
     "metadata": {},
     "output_type": "execute_result"
    },
    {
     "data": {
      "image/png": "[encoded data removed]",
      "text/plain": [
       "<Figure size 1080x720 with 1 Axes>"
      ]
     },
     "metadata": {
      "needs_background": "light"
     },
     "output_type": "display_data"
    }
   ],
   "source": [
    "df.plot.bar(rot=45, figsize=(15,10), fontsize=10)"
   ]
  },
  {
   "cell_type": "code",
   "execution_count": 33,
   "metadata": {},
   "outputs": [
    {
     "data": {
      "text/plain": [
       "29.73157849566745"
      ]
     },
     "execution_count": 33,
     "metadata": {},
     "output_type": "execute_result"
    }
   ],
   "source": [
    "mean_absolute_error(df.yhat.values, df.y.values)"
   ]
  },
  {
   "cell_type": "code",
   "execution_count": null,
   "metadata": {},
   "outputs": [],
   "source": []
  },
  {
   "cell_type": "code",
   "execution_count": null,
   "metadata": {},
   "outputs": [],
   "source": []
  },
  {
   "cell_type": "code",
   "execution_count": null,
   "metadata": {},
   "outputs": [],
   "source": []
  }
 ],
 "metadata": {
  "kernelspec": {
   "display_name": "Python 3",
   "language": "python",
   "name": "python3"
  },
  "language_info": {
   "codemirror_mode": {
    "name": "ipython",
    "version": 3
   },
   "file_extension": ".py",
   "mimetype": "text/x-python",
   "name": "python",
   "nbconvert_exporter": "python",
   "pygments_lexer": "ipython3",
   "version": "3.6.7"
  }
 },
 "nbformat": 4,
 "nbformat_minor": 2
}
