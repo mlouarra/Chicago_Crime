{
 "cells": [
  {
   "cell_type": "markdown",
   "metadata": {},
   "source": [
    "### Objectifs de ce notebook :\n",
    ">Utilisation des données du site https://data.cityofchicago.org/ sur la criminalité\n",
    "\n",
    "## Prédiction des crimes par type et par région \n",
    "- Le nombre de crime est vu comme une série temporelle\n",
    "- Utilisation de la librairie PROPHET https://facebook.github.io/prophet/docs/quick_start.html\n",
    "- Visualisation des résultats"
   ]
  },
  {
   "cell_type": "code",
   "execution_count": 33,
   "metadata": {},
   "outputs": [],
   "source": [
    "%load_ext autoreload\n",
    "%autoreload 2"
   ]
  },
  {
   "cell_type": "markdown",
   "metadata": {},
   "source": [
    "### Import des package"
   ]
  },
  {
   "cell_type": "code",
   "execution_count": null,
   "metadata": {},
   "outputs": [],
   "source": []
  },
  {
   "cell_type": "code",
   "execution_count": 34,
   "metadata": {},
   "outputs": [],
   "source": [
    "import numpy as np\n",
    "import pandas as pd\n",
    "from datetime import datetime, timedelta\n",
    "from sklearn.model_selection import train_test_split\n",
    "from sklearn.metrics import mean_squared_error\n",
    "from sklearn.metrics import r2_score\n",
    "from sklearn.metrics import explained_variance_score\n",
    "from sklearn.metrics import mean_absolute_error\n",
    "from prophet.serialize import model_to_json, model_from_json\n",
    "from prophet import Prophet\n",
    "import joblib\n",
    "from pandas.tseries.offsets import MonthEnd"
   ]
  },
  {
   "cell_type": "code",
   "execution_count": null,
   "metadata": {},
   "outputs": [],
   "source": []
  },
  {
   "cell_type": "markdown",
   "metadata": {},
   "source": [
    "## Chemin des données"
   ]
  },
  {
   "cell_type": "code",
   "execution_count": 35,
   "metadata": {},
   "outputs": [],
   "source": [
    "Path_Socio = \"/home/mlou/Chicago_Crime/data/raw/Census_Data_-_Selected_socioeconomic_indicators_in_Chicago__2008___2012.csv\"\n",
    "Path_Crime = \"/home/mlou/Chicago_Crime/data/raw/Crimes_-_2001_to_Present_20231130.csv\""
   ]
  },
  {
   "cell_type": "markdown",
   "metadata": {},
   "source": [
    "## Chargment des données"
   ]
  },
  {
   "cell_type": "code",
   "execution_count": 36,
   "metadata": {},
   "outputs": [
    {
     "name": "stderr",
     "output_type": "stream",
     "text": [
      "/tmp/ipykernel_3614/2002331420.py:2: UserWarning: Could not infer format, so each element will be parsed individually, falling back to `dateutil`. To ensure parsing is consistent and as-expected, please specify a format.\n",
      "  df_Crime = pd.read_csv(Path_Crime, parse_dates=['Date'])\n"
     ]
    }
   ],
   "source": [
    "df_Socio = pd.read_csv(Path_Socio)\n",
    "df_Crime = pd.read_csv(Path_Crime, parse_dates=['Date'])"
   ]
  },
  {
   "cell_type": "code",
   "execution_count": 37,
   "metadata": {},
   "outputs": [],
   "source": [
    "start_date = df_Crime.Date.min()"
   ]
  },
  {
   "cell_type": "code",
   "execution_count": 38,
   "metadata": {},
   "outputs": [],
   "source": [
    "end_date = df_Crime.Date.max()"
   ]
  },
  {
   "cell_type": "code",
   "execution_count": 39,
   "metadata": {},
   "outputs": [
    {
     "data": {
      "text/plain": [
       "Timestamp('2019-11-23 00:00:00')"
      ]
     },
     "execution_count": 39,
     "metadata": {},
     "output_type": "execute_result"
    }
   ],
   "source": [
    "start_date"
   ]
  },
  {
   "cell_type": "code",
   "execution_count": 40,
   "metadata": {},
   "outputs": [
    {
     "data": {
      "text/plain": [
       "Timestamp('2023-11-22 00:00:00')"
      ]
     },
     "execution_count": 40,
     "metadata": {},
     "output_type": "execute_result"
    }
   ],
   "source": [
    "end_date"
   ]
  },
  {
   "cell_type": "code",
   "execution_count": 41,
   "metadata": {},
   "outputs": [],
   "source": [
    "def rename_columns_socio():\n",
    "    \"\"\"\n",
    "    \n",
    "    \"\"\"\n",
    "    return {\n",
    "'Community Area Number':'community_area_number',\n",
    "'COMMUNITY AREA NAME':'community_area_name', \n",
    "'PERCENT OF HOUSING CROWDED':'pct_housing_crowded', \n",
    "'PERCENT HOUSEHOLDS BELOW POVERTY':'pct_households_below_poverty', \n",
    "'PERCENT AGED 16+ UNEMPLOYED':'pct_age16_unemployed',\n",
    "'PERCENT AGED 25+ WITHOUT HIGH SCHOOL DIPLOMA':'pct_age25_no_highschool',\n",
    "'PERCENT AGED UNDER 18 OR OVER 64': 'pct_not_working_age',\n",
    "'per_capita_income':'per_capita_income',\n",
    "'HARDSHIP INDEX' : 'hardship_index'}\n",
    "\n",
    "def rename_columns_crimes():\n",
    "    \"\"\"\n",
    "    \n",
    "    \"\"\"\n",
    "    return {\n",
    "        'ID': 'id',\n",
    "        'Case Number': 'cas_number', \n",
    "        'Date':'date',\n",
    "        'Block':'block', \n",
    "        'IUCR':'iucr', \n",
    "        'Primary Type':'primary_type',\n",
    "        'Description':'description', \n",
    "        'Location Description':'location_description', \n",
    "        'Arrest':'arrest', \n",
    "        'Domestic':'domestic', \n",
    "        'Beat':'beat',\n",
    "        'District':'district', \n",
    "        'Ward':'ward', \n",
    "        'Community Area': 'community_area_number', \n",
    "        'FBI Code':'fbi_code', \n",
    "        'X Coordinate':'x_coordinate',\n",
    "        'Y Coordinate':'y_coordinate', \n",
    "        'Year':'year', \n",
    "        'Updated On':'updated_on', \n",
    "        'Latitude':'latitude', \n",
    "        'Longitude':'longitude',\n",
    "        'Location':'location'   \n",
    "    }\n",
    "\n",
    "df_Socio.rename(columns=rename_columns_socio(), inplace=True)\n",
    "df_Crime.rename(columns=rename_columns_crimes(), inplace=True)"
   ]
  },
  {
   "cell_type": "code",
   "execution_count": 42,
   "metadata": {},
   "outputs": [],
   "source": [
    "df_src = pd.merge(df_Crime, df_Socio, on='community_area_number', how='left')\n",
    "df_src.drop(df_src.columns.difference(['primary_type','date', 'community_area_name']), inplace=True, axis=1)"
   ]
  },
  {
   "cell_type": "code",
   "execution_count": 43,
   "metadata": {},
   "outputs": [],
   "source": [
    "list_date = df_src['date'].apply(lambda x: x.strftime('%Y-%m'))"
   ]
  },
  {
   "cell_type": "code",
   "execution_count": 44,
   "metadata": {},
   "outputs": [],
   "source": [
    "list_primary_type = list(df_src.primary_type.unique())\n",
    "list_community_area = list(df_src.community_area_name.unique())"
   ]
  },
  {
   "cell_type": "code",
   "execution_count": 45,
   "metadata": {},
   "outputs": [],
   "source": [
    "list_date_sorted = sorted(set(list_date), key=lambda x: pd.to_datetime(x))"
   ]
  },
  {
   "cell_type": "code",
   "execution_count": 46,
   "metadata": {},
   "outputs": [],
   "source": [
    "def return_df(type_incident,start_date_train, end_date_train, community_area=None):\n",
    "\n",
    "    start_date_train = pd.to_datetime(start_date_train)\n",
    "    end_date_train = pd.to_datetime(end_date_train)\n",
    "    if community_area != None:\n",
    "        df = df_src[(df_src.primary_type==type_incident) & (df_src.community_area_name==community_area)]\n",
    "    else:  \n",
    "        df = df_Crime[df_Crime.primary_type==type_incident]\n",
    "    df['year_month'] = df['date'].apply(lambda x: x.strftime('%Y-%m'))\n",
    "    df_group = df.groupby(['year_month'], as_index=False).agg({'primary_type':'count'})\n",
    "    df_group.rename(columns={\"primary_type\":\"nb_crime\"}, inplace=True)\n",
    "    df_group['year_month']= pd.to_datetime(df_group['year_month'])\n",
    "    df_group.sort_values(by='year_month', inplace=True)\n",
    "    df_group.reset_index(inplace=True, drop=True)\n",
    "    del df\n",
    "    df_group['year_month'] = pd.to_datetime(df_group['year_month'], format=\"%Y%m\") + MonthEnd(1)\n",
    "    df_group.columns = ['ds', 'y']\n",
    "    return df_group[(df_group['ds'] >=start_date_train) & (df_group['ds'] <= end_date_train)]"
   ]
  },
  {
   "cell_type": "code",
   "execution_count": 47,
   "metadata": {},
   "outputs": [],
   "source": [
    "start_date_train = \"2019-11\"\n",
    "end_date_train = \"2022-10\""
   ]
  },
  {
   "cell_type": "code",
   "execution_count": 48,
   "metadata": {},
   "outputs": [
    {
     "name": "stderr",
     "output_type": "stream",
     "text": [
      "/tmp/ipykernel_3614/2066736721.py:9: SettingWithCopyWarning: \n",
      "A value is trying to be set on a copy of a slice from a DataFrame.\n",
      "Try using .loc[row_indexer,col_indexer] = value instead\n",
      "\n",
      "See the caveats in the documentation: https://pandas.pydata.org/pandas-docs/stable/user_guide/indexing.html#returning-a-view-versus-a-copy\n",
      "  df['year_month'] = df['date'].apply(lambda x: x.strftime('%Y-%m'))\n"
     ]
    }
   ],
   "source": [
    "df_ml_train = return_df(\"THEFT\", start_date_train, end_date_train, \"Austin\")"
   ]
  },
  {
   "cell_type": "code",
   "execution_count": null,
   "metadata": {},
   "outputs": [],
   "source": []
  },
  {
   "cell_type": "code",
   "execution_count": 50,
   "metadata": {},
   "outputs": [],
   "source": [
    "def return_model(df_train):\n",
    "    m = Prophet(\n",
    "        growth=\"linear\",\n",
    "        seasonality_mode='multiplicative',\n",
    "        daily_seasonality=False,\n",
    "        weekly_seasonality=False,\n",
    "        yearly_seasonality=False,\n",
    "        ).add_seasonality(\n",
    "        name='yearly',\n",
    "        period = 365.25,\n",
    "        fourier_order=20)\n",
    "    m.fit(df_train)\n",
    "    return m"
   ]
  },
  {
   "cell_type": "code",
   "execution_count": 51,
   "metadata": {},
   "outputs": [
    {
     "name": "stderr",
     "output_type": "stream",
     "text": [
      "17:52:51 - cmdstanpy - INFO - Chain [1] start processing\n",
      "17:52:51 - cmdstanpy - INFO - Chain [1] done processing\n"
     ]
    }
   ],
   "source": [
    "model_theft = return_model(df_ml_train)"
   ]
  },
  {
   "cell_type": "code",
   "execution_count": 52,
   "metadata": {},
   "outputs": [],
   "source": [
    "def predict_model(m):\n",
    "    \n",
    "    # Créer un DataFrame pour les dates futures que vous souhaitez prédire (la période restante)\n",
    "    start_date_future = pd.to_datetime(end_date_train)\n",
    "    end_date_future = end_date  # Fin des données\n",
    "    future_dates = pd.date_range(start=start_date_future, end=end_date_future, freq='1M')\n",
    "    future_dates = pd.DataFrame({'ds': future_dates})\n",
    "    return m.predict(future_dates)\n"
   ]
  },
  {
   "cell_type": "code",
   "execution_count": 53,
   "metadata": {},
   "outputs": [],
   "source": [
    "forecast = predict_model(model_theft)"
   ]
  },
  {
   "cell_type": "code",
   "execution_count": 54,
   "metadata": {},
   "outputs": [
    {
     "data": {
      "text/plain": [
       "Timestamp('2022-10-31 00:00:00')"
      ]
     },
     "execution_count": 54,
     "metadata": {},
     "output_type": "execute_result"
    }
   ],
   "source": [
    "forecast.ds.min()"
   ]
  },
  {
   "cell_type": "code",
   "execution_count": 55,
   "metadata": {},
   "outputs": [
    {
     "data": {
      "text/plain": [
       "Timestamp('2023-10-31 00:00:00')"
      ]
     },
     "execution_count": 55,
     "metadata": {},
     "output_type": "execute_result"
    }
   ],
   "source": [
    "forecast.ds.max()"
   ]
  },
  {
   "cell_type": "code",
   "execution_count": 56,
   "metadata": {},
   "outputs": [
    {
     "name": "stderr",
     "output_type": "stream",
     "text": [
      "/tmp/ipykernel_3614/2066736721.py:9: SettingWithCopyWarning: \n",
      "A value is trying to be set on a copy of a slice from a DataFrame.\n",
      "Try using .loc[row_indexer,col_indexer] = value instead\n",
      "\n",
      "See the caveats in the documentation: https://pandas.pydata.org/pandas-docs/stable/user_guide/indexing.html#returning-a-view-versus-a-copy\n",
      "  df['year_month'] = df['date'].apply(lambda x: x.strftime('%Y-%m'))\n"
     ]
    }
   ],
   "source": [
    "data = return_df(\"THEFT\", forecast.ds.min(), forecast.ds.max(),\"Austin\")"
   ]
  },
  {
   "cell_type": "code",
   "execution_count": 61,
   "metadata": {},
   "outputs": [],
   "source": [
    "merged_data = data.merge(forecast[['ds', 'yhat', 'yhat_lower', 'yhat_upper']], on='ds')"
   ]
  },
  {
   "cell_type": "code",
   "execution_count": null,
   "metadata": {},
   "outputs": [],
   "source": []
  },
  {
   "cell_type": "code",
   "execution_count": 63,
   "metadata": {},
   "outputs": [],
   "source": [
    "# Fonction pour enregistrer le modèle Prophet dans un fichier\n",
    "def save_prophet_model(model, filename):\n",
    "    try:\n",
    "        joblib.dump(model, filename)\n",
    "        print(f\"Model saved as {filename}\")\n",
    "    except Exception as e:\n",
    "        print(f\"Error saving model: {e}\")\n"
   ]
  },
  {
   "cell_type": "code",
   "execution_count": null,
   "metadata": {},
   "outputs": [],
   "source": [
    "# Fonction pour charger le modèle Prophet depuis un fichier\n",
    "def load_prophet_model(filename):\n",
    "    try:\n",
    "        loaded_model = joblib.load(filename)\n",
    "        print(f\"Model loaded from {filename}\")\n",
    "        return loaded_model\n",
    "    except Exception as e:\n",
    "        print(f\"Error loading model: {e}\")\n",
    "        return None\n"
   ]
  },
  {
   "cell_type": "code",
   "execution_count": null,
   "metadata": {},
   "outputs": [],
   "source": []
  }
 ],
 "metadata": {
  "kernelspec": {
   "display_name": "crime_chicago",
   "language": "python",
   "name": "crime_chicago"
  },
  "language_info": {
   "codemirror_mode": {
    "name": "ipython",
    "version": 3
   },
   "file_extension": ".py",
   "mimetype": "text/x-python",
   "name": "python",
   "nbconvert_exporter": "python",
   "pygments_lexer": "ipython3",
   "version": "3.9.18"
  }
 },
 "nbformat": 4,
 "nbformat_minor": 2
}
