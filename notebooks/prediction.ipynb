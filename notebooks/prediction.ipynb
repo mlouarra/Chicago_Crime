{
 "cells": [
  {
   "cell_type": "code",
   "execution_count": 1,
   "id": "d97c9fa9",
   "metadata": {},
   "outputs": [],
   "source": [
    "%load_ext autoreload\n",
    "%autoreload 2"
   ]
  },
  {
   "cell_type": "code",
   "execution_count": 2,
   "id": "66d54847",
   "metadata": {},
   "outputs": [],
   "source": [
    "import inspect\n",
    "from datetime import datetime\n",
    "import requests\n",
    "import pandas as pd\n",
    "import inspect\n",
    "import pandas as pd\n",
    "# from sodapy import Socrata"
   ]
  },
  {
   "cell_type": "code",
   "execution_count": 3,
   "id": "0826adbe",
   "metadata": {},
   "outputs": [],
   "source": [
    "import pandas as pd\n",
    "import numpy as np\n",
    "import plotly.graph_objs as go\n",
    "from prophet import Prophet\n",
    "import sys\n",
    "import os\n",
    "sys.path.append('../src')  # Ajoute le répertoire src au PYTHONPATH\n",
    "from chicago_crime_predictor import ChicagoCrimePredictor\n",
    "from pathlib import Path"
   ]
  },
  {
   "cell_type": "code",
   "execution_count": 4,
   "id": "44583865",
   "metadata": {
    "scrolled": true
   },
   "outputs": [],
   "source": [
    "# Chemin pour les notebooks situés dans un sous-dossier du projet\n",
    "DATA_DIR = Path('..') / 'data' "
   ]
  },
  {
   "cell_type": "code",
   "execution_count": 5,
   "id": "4b7fb3e3",
   "metadata": {},
   "outputs": [
    {
     "data": {
      "text/plain": [
       "PosixPath('../data')"
      ]
     },
     "execution_count": 5,
     "metadata": {},
     "output_type": "execute_result"
    }
   ],
   "source": [
    "DATA_DIR "
   ]
  },
  {
   "cell_type": "code",
   "execution_count": 6,
   "id": "f6bc1d13",
   "metadata": {},
   "outputs": [],
   "source": [
    "obj_predict = ChicagoCrimePredictor(months_pred=12, data_dir = DATA_DIR)"
   ]
  },
  {
   "cell_type": "code",
   "execution_count": 7,
   "id": "9d56eab8",
   "metadata": {},
   "outputs": [
    {
     "name": "stdout",
     "output_type": "stream",
     "text": [
      "              total       utilisé      libre     partagé tamp/cache   disponible\r\n",
      "Mem:            19G        6,2G        6,0G         89M        7,0G         12G\r\n",
      "Partition d'échange:        2,0G        268K        2,0G\r\n"
     ]
    }
   ],
   "source": [
    "!free -h"
   ]
  },
  {
   "cell_type": "code",
   "execution_count": null,
   "id": "7b96cbd7",
   "metadata": {},
   "outputs": [],
   "source": []
  },
  {
   "cell_type": "code",
   "execution_count": 8,
   "id": "3142b35c",
   "metadata": {},
   "outputs": [],
   "source": [
    "obj_predict.df_process()"
   ]
  },
  {
   "cell_type": "code",
   "execution_count": 9,
   "id": "f001b012",
   "metadata": {},
   "outputs": [],
   "source": [
    "df_processed = obj_predict.load_df_crimes()"
   ]
  },
  {
   "cell_type": "code",
   "execution_count": 10,
   "id": "f9b27aad",
   "metadata": {},
   "outputs": [
    {
     "data": {
      "text/plain": [
       "Timestamp('2023-02-06 23:57:00')"
      ]
     },
     "execution_count": 10,
     "metadata": {},
     "output_type": "execute_result"
    }
   ],
   "source": [
    "df_processed.date.max()"
   ]
  },
  {
   "cell_type": "code",
   "execution_count": null,
   "id": "601ceb29",
   "metadata": {},
   "outputs": [],
   "source": [
    "df_processed.sample(51)"
   ]
  },
  {
   "cell_type": "code",
   "execution_count": null,
   "id": "df6570f4",
   "metadata": {},
   "outputs": [],
   "source": [
    "obj_predict.update_crime_data()"
   ]
  },
  {
   "cell_type": "code",
   "execution_count": null,
   "id": "ad5eee54",
   "metadata": {},
   "outputs": [],
   "source": [
    "%%time\n",
    "df_crimes = obj_predict.load_df_crimes()"
   ]
  },
  {
   "cell_type": "code",
   "execution_count": null,
   "id": "33ac48ae",
   "metadata": {},
   "outputs": [],
   "source": [
    "df_socio = obj_predict.load_df_socio()"
   ]
  },
  {
   "cell_type": "code",
   "execution_count": null,
   "id": "99a4d9ab",
   "metadata": {},
   "outputs": [],
   "source": [
    "!free -h"
   ]
  },
  {
   "cell_type": "code",
   "execution_count": null,
   "id": "4d442b60",
   "metadata": {},
   "outputs": [],
   "source": [
    "df_crimes.columns"
   ]
  },
  {
   "cell_type": "code",
   "execution_count": null,
   "id": "9a458117",
   "metadata": {},
   "outputs": [],
   "source": [
    "df_crimes.date.max()"
   ]
  },
  {
   "cell_type": "code",
   "execution_count": null,
   "id": "1c534664",
   "metadata": {},
   "outputs": [],
   "source": [
    "df_crimes.dtypes"
   ]
  },
  {
   "cell_type": "code",
   "execution_count": null,
   "id": "ab4143b6",
   "metadata": {},
   "outputs": [],
   "source": [
    "df_train, df_test = obj_predict.return_data(\"ASSAULT\", 'Austin')"
   ]
  },
  {
   "cell_type": "code",
   "execution_count": null,
   "id": "1d87787d",
   "metadata": {},
   "outputs": [],
   "source": [
    "df_train"
   ]
  },
  {
   "cell_type": "code",
   "execution_count": null,
   "id": "f2550d38",
   "metadata": {},
   "outputs": [],
   "source": [
    "df_test"
   ]
  },
  {
   "cell_type": "code",
   "execution_count": null,
   "id": "82ec407f",
   "metadata": {},
   "outputs": [],
   "source": [
    "df_test.shape"
   ]
  },
  {
   "cell_type": "code",
   "execution_count": null,
   "id": "00cdffd1",
   "metadata": {},
   "outputs": [],
   "source": [
    "obj_predict.model_train(df_train)"
   ]
  },
  {
   "cell_type": "code",
   "execution_count": null,
   "id": "29dffacf",
   "metadata": {},
   "outputs": [],
   "source": [
    "model = obj_predict.model"
   ]
  },
  {
   "cell_type": "code",
   "execution_count": null,
   "id": "0bd8b786",
   "metadata": {},
   "outputs": [],
   "source": [
    "forecast, predictions = obj_predict.model_predict()"
   ]
  },
  {
   "cell_type": "code",
   "execution_count": null,
   "id": "ae051fda",
   "metadata": {},
   "outputs": [],
   "source": [
    "forecast"
   ]
  },
  {
   "cell_type": "code",
   "execution_count": null,
   "id": "2d7e46b7",
   "metadata": {},
   "outputs": [],
   "source": [
    "obj_predict.model_save('../models/model_ASSAULT')"
   ]
  },
  {
   "cell_type": "code",
   "execution_count": null,
   "id": "f679ba48",
   "metadata": {},
   "outputs": [],
   "source": [
    "predictions"
   ]
  },
  {
   "cell_type": "code",
   "execution_count": null,
   "id": "4b5f05a6",
   "metadata": {},
   "outputs": [],
   "source": [
    "obj_predict.model_evaluation(df_test, predictions)"
   ]
  },
  {
   "cell_type": "code",
   "execution_count": null,
   "id": "c8ccddaf",
   "metadata": {},
   "outputs": [],
   "source": [
    "obj_predict.model_visualization(df_train, df_test, predictions)"
   ]
  },
  {
   "cell_type": "code",
   "execution_count": null,
   "id": "3597e8c2",
   "metadata": {},
   "outputs": [],
   "source": [
    "now = datetime.now()"
   ]
  },
  {
   "cell_type": "code",
   "execution_count": null,
   "id": "08fdf545",
   "metadata": {},
   "outputs": [],
   "source": [
    "start_date = df_crimes.date.max().strftime(\"%Y-%m-%d\")\n",
    "end_date = str(now.strftime(\"%Y-%m-%d\"))"
   ]
  },
  {
   "cell_type": "code",
   "execution_count": null,
   "id": "37c76fd0",
   "metadata": {},
   "outputs": [],
   "source": [
    "end_date"
   ]
  },
  {
   "cell_type": "code",
   "execution_count": null,
   "id": "acd41520",
   "metadata": {},
   "outputs": [],
   "source": [
    "start_date"
   ]
  },
  {
   "cell_type": "code",
   "execution_count": null,
   "id": "ba312bd5",
   "metadata": {},
   "outputs": [],
   "source": [
    "start_date = \"2022-01-10\"\n",
    "end_date = \"2024-02-07\""
   ]
  },
  {
   "cell_type": "code",
   "execution_count": null,
   "id": "c11f1223",
   "metadata": {},
   "outputs": [],
   "source": [
    "start_date = df_crimes.date.max().strftime(\"%Y-%m-%d\")\n",
    "end_date = str(now.strftime(\"%Y-%m-%d\"))"
   ]
  },
  {
   "cell_type": "code",
   "execution_count": null,
   "id": "fabaa8fa",
   "metadata": {},
   "outputs": [],
   "source": [
    "start_date"
   ]
  },
  {
   "cell_type": "code",
   "execution_count": null,
   "id": "c9d57582",
   "metadata": {},
   "outputs": [],
   "source": [
    "end_date "
   ]
  },
  {
   "cell_type": "code",
   "execution_count": null,
   "id": "679e226b",
   "metadata": {},
   "outputs": [],
   "source": [
    "base_url = \"https://data.cityofchicago.org/resource/ijzp-q8t2.json\"\n",
    "params = {\n",
    "            \"$where\": f\"date between '{start_date}' and '{end_date}'\",\n",
    "            \"$limit\": 500000  # Limite définie pour éviter une surcharge de données\n",
    "        }"
   ]
  },
  {
   "cell_type": "code",
   "execution_count": null,
   "id": "4b4ab419",
   "metadata": {},
   "outputs": [],
   "source": [
    "response = requests.get(base_url, params=params)"
   ]
  },
  {
   "cell_type": "code",
   "execution_count": null,
   "id": "077a743c",
   "metadata": {},
   "outputs": [],
   "source": [
    "data = response.json()"
   ]
  },
  {
   "cell_type": "code",
   "execution_count": null,
   "id": "4d1522f2",
   "metadata": {},
   "outputs": [],
   "source": []
  },
  {
   "cell_type": "code",
   "execution_count": null,
   "id": "76162082",
   "metadata": {},
   "outputs": [],
   "source": [
    "results_df = pd.DataFrame.from_records(data)"
   ]
  },
  {
   "cell_type": "code",
   "execution_count": null,
   "id": "76af8a09",
   "metadata": {},
   "outputs": [],
   "source": [
    "results_df.date.max()"
   ]
  },
  {
   "cell_type": "code",
   "execution_count": null,
   "id": "dacc0b38",
   "metadata": {},
   "outputs": [],
   "source": [
    "results_df.shape"
   ]
  },
  {
   "cell_type": "code",
   "execution_count": null,
   "id": "49b0e414",
   "metadata": {},
   "outputs": [],
   "source": []
  },
  {
   "cell_type": "code",
   "execution_count": null,
   "id": "e8c143db",
   "metadata": {},
   "outputs": [],
   "source": []
  }
 ],
 "metadata": {
  "kernelspec": {
   "display_name": "Python [conda env:crime_chicago] *",
   "language": "python",
   "name": "conda-env-crime_chicago-py"
  },
  "language_info": {
   "codemirror_mode": {
    "name": "ipython",
    "version": 3
   },
   "file_extension": ".py",
   "mimetype": "text/x-python",
   "name": "python",
   "nbconvert_exporter": "python",
   "pygments_lexer": "ipython3",
   "version": "3.9.18"
  }
 },
 "nbformat": 4,
 "nbformat_minor": 5
}
